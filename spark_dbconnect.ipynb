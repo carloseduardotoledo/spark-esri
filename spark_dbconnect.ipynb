{
 "cells": [
  {
   "cell_type": "code",
   "execution_count": 1,
   "metadata": {},
   "outputs": [],
   "source": [
    "import os\n",
    "from spark_dbconnect import spark_start, spark_stop"
   ]
  },
  {
   "cell_type": "code",
   "execution_count": 7,
   "metadata": {},
   "outputs": [],
   "source": [
    "from IPython.display import display\n",
    "from IPython.core.magic import line_magic, line_cell_magic, Magics, magics_class\n",
    "\n",
    "@magics_class\n",
    "class DatabricksConnectMagics(Magics):\n",
    "\n",
    "   @line_cell_magic\n",
    "   def sql(self, line, cell=None):\n",
    "       if cell and line:\n",
    "           raise ValueError(\"Line must be empty for cell magic\", line)\n",
    "       try:\n",
    "           from autovizwidget.widget.utils import display_dataframe\n",
    "       except ImportError:\n",
    "           print(\"Please run `pip install autovizwidget` to enable the visualization widget.\")\n",
    "           display_dataframe = lambda x: x\n",
    "       return display(self.get_spark().sql(cell or line).toPandas())\n",
    "\n",
    "   def get_spark(self):\n",
    "       user_ns = get_ipython().user_ns\n",
    "       if \"spark\" in user_ns:\n",
    "           return user_ns[\"spark\"]\n",
    "       else:\n",
    "           from pyspark.sql import SparkSession\n",
    "           user_ns[\"spark\"] = SparkSession.builder.getOrCreate()\n",
    "           return user_ns[\"spark\"]\n",
    "\n",
    "ip = get_ipython()\n",
    "ip.register_magics(DatabricksConnectMagics)"
   ]
  },
  {
   "cell_type": "code",
   "execution_count": 3,
   "metadata": {},
   "outputs": [],
   "source": [
    "config = {\n",
    "    \"spark.databricks.service.server.enabled\": True,\n",
    "    \"spark.databricks.service.address\": \"https://adb-2740165739887726.6.azuredatabricks.net\",\n",
    "    \"spark.databricks.service.token\": os.environ[\"DATABRICKS_TOKEN\"],\n",
    "    \"spark.databricks.service.clusterId\": \"0802-221206-sols809\",\n",
    "    \"spark.databricks.service.orgId\": \"2740165739887726\",\n",
    "    \"spark.databricks.service.port\": \"15001\"\n",
    "}\n",
    "spark = spark_start(config=config)"
   ]
  },
  {
   "cell_type": "code",
   "execution_count": 4,
   "metadata": {},
   "outputs": [],
   "source": [
    "df = spark.read.parquet(\"dbfs:/FileStore/tables/Broadcast.parq\")\n",
    "df.createOrReplaceTempView(\"v0\")"
   ]
  },
  {
   "cell_type": "code",
   "execution_count": 8,
   "metadata": {},
   "outputs": [
    {
     "data": {
      "text/html": [
       "<div>\n",
       "<style scoped>\n",
       "    .dataframe tbody tr th:only-of-type {\n",
       "        vertical-align: middle;\n",
       "    }\n",
       "\n",
       "    .dataframe tbody tr th {\n",
       "        vertical-align: top;\n",
       "    }\n",
       "\n",
       "    .dataframe thead th {\n",
       "        text-align: right;\n",
       "    }\n",
       "</style>\n",
       "<table border=\"1\" class=\"dataframe\">\n",
       "  <thead>\n",
       "    <tr style=\"text-align: right;\">\n",
       "      <th></th>\n",
       "      <th>mmsi</th>\n",
       "      <th>pop</th>\n",
       "    </tr>\n",
       "  </thead>\n",
       "  <tbody>\n",
       "    <tr>\n",
       "      <th>0</th>\n",
       "      <td>303105000</td>\n",
       "      <td>499</td>\n",
       "    </tr>\n",
       "    <tr>\n",
       "      <th>1</th>\n",
       "      <td>311705000</td>\n",
       "      <td>2466</td>\n",
       "    </tr>\n",
       "    <tr>\n",
       "      <th>2</th>\n",
       "      <td>244457000</td>\n",
       "      <td>72</td>\n",
       "    </tr>\n",
       "    <tr>\n",
       "      <th>3</th>\n",
       "      <td>369527000</td>\n",
       "      <td>147</td>\n",
       "    </tr>\n",
       "    <tr>\n",
       "      <th>4</th>\n",
       "      <td>319101000</td>\n",
       "      <td>2158</td>\n",
       "    </tr>\n",
       "    <tr>\n",
       "      <th>...</th>\n",
       "      <td>...</td>\n",
       "      <td>...</td>\n",
       "    </tr>\n",
       "    <tr>\n",
       "      <th>738</th>\n",
       "      <td>306156000</td>\n",
       "      <td>202</td>\n",
       "    </tr>\n",
       "    <tr>\n",
       "      <th>739</th>\n",
       "      <td>636012507</td>\n",
       "      <td>71</td>\n",
       "    </tr>\n",
       "    <tr>\n",
       "      <th>740</th>\n",
       "      <td>367493000</td>\n",
       "      <td>171</td>\n",
       "    </tr>\n",
       "    <tr>\n",
       "      <th>741</th>\n",
       "      <td>367070050</td>\n",
       "      <td>189</td>\n",
       "    </tr>\n",
       "    <tr>\n",
       "      <th>742</th>\n",
       "      <td>636013115</td>\n",
       "      <td>103</td>\n",
       "    </tr>\n",
       "  </tbody>\n",
       "</table>\n",
       "<p>743 rows × 2 columns</p>\n",
       "</div>"
      ],
      "text/plain": [
       "          mmsi   pop\n",
       "0    303105000   499\n",
       "1    311705000  2466\n",
       "2    244457000    72\n",
       "3    369527000   147\n",
       "4    319101000  2158\n",
       "..         ...   ...\n",
       "738  306156000   202\n",
       "739  636012507    71\n",
       "740  367493000   171\n",
       "741  367070050   189\n",
       "742  636013115   103\n",
       "\n",
       "[743 rows x 2 columns]"
      ]
     },
     "metadata": {},
     "output_type": "display_data"
    }
   ],
   "source": [
    "%%sql\n",
    "select mmsi,count(1) pop from v0 group by mmsi"
   ]
  },
  {
   "cell_type": "code",
   "execution_count": 9,
   "metadata": {},
   "outputs": [],
   "source": [
    "spark_stop()"
   ]
  }
 ],
 "metadata": {
  "kernelspec": {
   "display_name": "ArcGISPro",
   "language": "Python",
   "name": "python3"
  },
  "language_info": {
   "file_extension": ".py",
   "name": "python",
   "version": "3"
  }
 },
 "nbformat": 4,
 "nbformat_minor": 2
}
