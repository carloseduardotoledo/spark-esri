{
 "cells": [
  {
   "cell_type": "code",
   "execution_count": 1,
   "metadata": {},
   "outputs": [],
   "source": [
    "import os\n",
    "from spark_dbconnect import spark_start, spark_stop"
   ]
  },
  {
   "cell_type": "code",
   "execution_count": 2,
   "metadata": {},
   "outputs": [],
   "source": [
    "config = {\n",
    "    \"spark.databricks.service.server.enabled\": True,\n",
    "    \"spark.databricks.service.address\": \"https://adb-2740165739887726.6.azuredatabricks.net\",\n",
    "    \"spark.databricks.service.token\": os.environ[\"DATABRICKS_TOKEN\"],\n",
    "    \"spark.databricks.service.clusterId\": \"0802-221206-sols809\",\n",
    "    \"spark.databricks.service.orgId\": \"2740165739887726\",\n",
    "    \"spark.databricks.service.port\": \"15001\"\n",
    "}\n",
    "spark = spark_start(config=config)"
   ]
  },
  {
   "cell_type": "code",
   "execution_count": 3,
   "metadata": {},
   "outputs": [],
   "source": [
    "rows = spark\\\n",
    "    .range(100)\\\n",
    "    .selectExpr(\"id\",\"rand() x\",\"rand() y\")\\\n",
    "    .collect()"
   ]
  },
  {
   "cell_type": "code",
   "execution_count": 4,
   "metadata": {},
   "outputs": [
    {
     "name": "stdout",
     "output_type": "stream",
     "text": [
      "Row(id=0, x=0.2775784055291839, y=0.8489883637857276)\n",
      "Row(id=1, x=0.5428405382634669, y=0.24788173631637467)\n",
      "Row(id=2, x=0.630191309470168, y=0.27917697451334367)\n",
      "Row(id=3, x=0.8030459073002053, y=0.34738289624786145)\n",
      "Row(id=4, x=0.5546924605372148, y=0.6289449457111386)\n",
      "Row(id=5, x=0.08128206518671344, y=0.4733380535910122)\n",
      "Row(id=6, x=0.6469609789375964, y=0.19535269285988321)\n",
      "Row(id=7, x=0.28755908293759636, y=0.20539285677058394)\n",
      "Row(id=8, x=0.17906712853896567, y=0.07610811055591071)\n",
      "Row(id=9, x=0.5472043957336317, y=0.8954605357503779)\n"
     ]
    }
   ],
   "source": [
    "for row in rows[:10]:\n",
    "    print(row)"
   ]
  },
  {
   "cell_type": "code",
   "execution_count": 5,
   "metadata": {},
   "outputs": [
    {
     "name": "stdout",
     "output_type": "stream",
     "text": [
      "Stopping Spark...\n"
     ]
    }
   ],
   "source": [
    "spark_stop()"
   ]
  }
 ],
 "metadata": {
  "kernelspec": {
   "display_name": "ArcGISPro",
   "language": "Python",
   "name": "python3"
  },
  "language_info": {
   "file_extension": ".py",
   "name": "python",
   "version": "3"
  }
 },
 "nbformat": 4,
 "nbformat_minor": 2
}