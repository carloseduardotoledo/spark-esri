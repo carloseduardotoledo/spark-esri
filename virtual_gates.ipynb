{
 "cells": [
  {
   "cell_type": "markdown",
   "metadata": {},
   "source": [
    "```\n",
    "conda install shapely rtree\n",
    "```"
   ]
  },
  {
   "cell_type": "code",
   "execution_count": 47,
   "metadata": {},
   "outputs": [],
   "source": [
    "import os\n",
    "import sys\n",
    "import arcgis\n",
    "from shapely.wkb import loads\n",
    "from shapely.geometry import LineString\n",
    "from spark_esri import spark_start, spark_stop"
   ]
  },
  {
   "cell_type": "code",
   "execution_count": 48,
   "metadata": {},
   "outputs": [],
   "source": [
    "spark_stop()"
   ]
  },
  {
   "cell_type": "code",
   "execution_count": 49,
   "metadata": {},
   "outputs": [],
   "source": [
    "config = {\"spark.driver.memory\":\"2G\"}\n",
    "spark = spark_start(config=config)"
   ]
  },
  {
   "cell_type": "code",
   "execution_count": 50,
   "metadata": {},
   "outputs": [],
   "source": [
    "sp_ref = arcpy.SpatialReference(3857)"
   ]
  },
  {
   "cell_type": "code",
   "execution_count": 51,
   "metadata": {},
   "outputs": [],
   "source": [
    "fields = [\"GateID\",\"SHAPE@WKB\"]\n",
    "with arcpy.da.SearchCursor(\"Gates\", fields, spatial_reference=sp_ref) as rows:\n",
    "    bv = spark.sparkContext.broadcast(list(rows))"
   ]
  },
  {
   "cell_type": "code",
   "execution_count": 52,
   "metadata": {},
   "outputs": [],
   "source": [
    "fields = [\"SHAPE@X\",\"SHAPE@Y\",\"MMSI\",\"BaseDateTime\"]\n",
    "with arcpy.da.SearchCursor(\"Broadcast\", fields, spatial_reference=sp_ref) as rows:\n",
    "    spark\\\n",
    "        .createDataFrame(rows, \"x double,y double,mmsi string,t timestamp\")\\\n",
    "        .selectExpr(\"mmsi\",\"x\",\"y\",\"unix_timestamp(t) t\")\\\n",
    "        .createOrReplaceTempView(\"v0\")"
   ]
  },
  {
   "cell_type": "code",
   "execution_count": 53,
   "metadata": {},
   "outputs": [],
   "source": [
    "spark\\\n",
    "    .sql(\"\"\"\n",
    "select mmsi,\n",
    "x x1,\n",
    "y y1,\n",
    "t t1,\n",
    "lead(x,1,0.0) over (partition by mmsi order by t) x2,\n",
    "lead(y,1,0.0) over (partition by mmsi order by t) y2,\n",
    "lead(t,1,0) over (partition by mmsi order by t) t2\n",
    "from v0\n",
    "\"\"\")\\\n",
    "    .createOrReplaceTempView(\"v1\")"
   ]
  },
  {
   "cell_type": "code",
   "execution_count": 54,
   "metadata": {},
   "outputs": [],
   "source": [
    "spark.sql(\"select *,(x2-x1) dx,(y2-y1) dy,(t2-t1) dt from v1 where t1 < t2\").createOrReplaceTempView(\"v2\")"
   ]
  },
  {
   "cell_type": "code",
   "execution_count": 55,
   "metadata": {},
   "outputs": [],
   "source": [
    "spark.sql(\"select mmsi,x1,y1,x2,y2,sqrt(dx*dx+dy*dy) dd,dt from v2\").createOrReplaceTempView(\"v3\")"
   ]
  },
  {
   "cell_type": "code",
   "execution_count": 56,
   "metadata": {},
   "outputs": [],
   "source": [
    "spark.sql(\"select *,dd/dt mps from v3\").createOrReplaceTempView(\"v4\")"
   ]
  },
  {
   "cell_type": "code",
   "execution_count": 57,
   "metadata": {},
   "outputs": [],
   "source": [
    "df1 = spark.sql(\"\"\"\n",
    "select x1,y1,x2,y2\n",
    "from v4\n",
    "where dd between 1 and 1500\n",
    "and mps < 25\n",
    "and dt < 130\n",
    "\"\"\")"
   ]
  },
  {
   "cell_type": "code",
   "execution_count": 58,
   "metadata": {},
   "outputs": [],
   "source": [
    "def func(partition):\n",
    "    from shapely.wkb import loads\n",
    "    from shapely.geometry import LineString\n",
    "    \n",
    "    def name_geom(_g):\n",
    "        \"\"\"Function to convert WKB to a shapely geometry and line vector.\n",
    "        \"\"\"\n",
    "        geom = loads(bytes(_g[1]))\n",
    "        coords = geom.coords\n",
    "        head = coords[0]\n",
    "        last = coords[-1]\n",
    "        vx = last[0] - head[0]\n",
    "        vy = last[1] - head[1]\n",
    "        return _g[0],geom,vx,vy\n",
    "        \n",
    "    # Read the gates in WKB format from the broadcast variable.\n",
    "    gates = [name_geom(v) for v in bv.value]\n",
    "        \n",
    "    # Perform cartesian product of paths and gates.\n",
    "    for row in partition:\n",
    "        x1 = row[\"x1\"]\n",
    "        y1 = row[\"y1\"]\n",
    "        x2 = row[\"x2\"]\n",
    "        y2 = row[\"y2\"]\n",
    "        px = x2 - x1\n",
    "        py = y2 - y1\n",
    "        path = LineString([(x1,y1),(x2,y2)])\n",
    "        for gate_id, gate_geom, gx, gy in gates:\n",
    "            point = gate_geom.intersection(path)\n",
    "            if not point.is_empty:\n",
    "                cross = px * gy - py * gx\n",
    "                lr_rl = \"RL\" if cross < 0.0 else \"LR\" \n",
    "                yield point.x,point.y,gate_id,lr_rl"
   ]
  },
  {
   "cell_type": "code",
   "execution_count": 59,
   "metadata": {},
   "outputs": [],
   "source": [
    "df2 = df1\\\n",
    "    .rdd\\\n",
    "    .mapPartitions(func)\\\n",
    "    .toDF([\"gate_x\",\"gate_y\",\"gate_id\",\"travel_dir\"])\\\n",
    "    .cache()\n",
    "\n",
    "df2.createOrReplaceTempView(\"v5\")"
   ]
  },
  {
   "cell_type": "code",
   "execution_count": 60,
   "metadata": {},
   "outputs": [],
   "source": [
    "rows = df2.collect()"
   ]
  },
  {
   "cell_type": "code",
   "execution_count": 61,
   "metadata": {},
   "outputs": [],
   "source": [
    "ws = \"memory\"\n",
    "nm = \"GatePoints\"\n",
    "\n",
    "fc = os.path.join(ws,nm)\n",
    "\n",
    "arcpy.management.Delete(fc)\n",
    "\n",
    "arcpy.management.CreateFeatureclass(ws, nm, \"POINT\", spatial_reference=sp_ref)\n",
    "arcpy.management.AddField(fc, \"GATE_ID\", \"LONG\")\n",
    "arcpy.management.AddField(fc, \"TRAVEL_DIR\", \"TEXT\")\n",
    "\n",
    "with arcpy.da.InsertCursor(fc, [\"SHAPE@X\",\"SHAPE@Y\",\"GATE_ID\",\"TRAVEL_DIR\"]) as cursor:\n",
    "    for row in rows:\n",
    "        cursor.insertRow(row)"
   ]
  },
  {
   "cell_type": "code",
   "execution_count": 64,
   "metadata": {},
   "outputs": [],
   "source": [
    "rows = spark.sql(\"\"\"\n",
    "select gate_id,travel_dir,count(1) cnt\n",
    "from v5\n",
    "group by gate_id,travel_dir\n",
    "order by gate_id,travel_dir\n",
    "\"\"\")\\\n",
    "    .collect()"
   ]
  },
  {
   "cell_type": "code",
   "execution_count": 65,
   "metadata": {},
   "outputs": [],
   "source": [
    "ws = \"memory\"\n",
    "nm = \"GateStats\"\n",
    "\n",
    "fc = os.path.join(ws,nm)\n",
    "\n",
    "arcpy.management.Delete(fc)\n",
    "\n",
    "arcpy.management.CreateTable(ws, nm)\n",
    "arcpy.management.AddField(fc, \"GATE_ID\", \"LONG\")\n",
    "arcpy.management.AddField(fc, \"TRAVEL_DIR\", \"TEXT\")\n",
    "arcpy.management.AddField(fc, \"TRAVEL_CNT\", \"LONG\")\n",
    "\n",
    "with arcpy.da.InsertCursor(fc, [\"GATE_ID\",\"TRAVEL_DIR\",\"TRAVEL_CNT\"]) as cursor:\n",
    "    for row in rows:\n",
    "        cursor.insertRow(row)"
   ]
  },
  {
   "cell_type": "code",
   "execution_count": null,
   "metadata": {},
   "outputs": [],
   "source": [
    "spark_stop()"
   ]
  }
 ],
 "metadata": {
  "kernelspec": {
   "display_name": "ArcGISPro",
   "language": "Python",
   "name": "python3"
  },
  "language_info": {
   "file_extension": ".py",
   "name": "python",
   "version": "3"
  }
 },
 "nbformat": 4,
 "nbformat_minor": 4
}
